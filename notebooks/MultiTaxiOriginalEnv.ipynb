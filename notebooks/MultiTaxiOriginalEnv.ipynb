{
  "nbformat": 4,
  "nbformat_minor": 0,
  "metadata": {
    "colab": {
      "name": "MultiTaxiOriginalEnv.ipynb",
      "provenance": [],
      "authorship_tag": "ABX9TyNpDwR2GRYCcCYrF7JxTnAu",
      "include_colab_link": true
    },
    "kernelspec": {
      "name": "python3",
      "display_name": "Python 3"
    },
    "language_info": {
      "name": "python"
    }
  },
  "cells": [
    {
      "cell_type": "markdown",
      "metadata": {
        "id": "view-in-github",
        "colab_type": "text"
      },
      "source": [
        "<a href=\"https://colab.research.google.com/github/sarah-keren/MultiTaxiEnv/blob/master/notebooks/MultiTaxiOriginalEnv.ipynb\" target=\"_parent\"><img src=\"https://colab.research.google.com/assets/colab-badge.svg\" alt=\"Open In Colab\"/></a>"
      ]
    },
    {
      "cell_type": "markdown",
      "metadata": {
        "id": "Z6-ITx9psXU-"
      },
      "source": [
        "\n",
        "##Variation on the Taxi-Grid Enviroment\n",
        "The multi-taxi environment was created by Kevin Huang and Howie Guo from Harvard College and Ofir Abu from Hebrew University. Thank you so much for their hard work.\n",
        "\n",
        "###Motivation\n",
        "Our project is based on the taxi gym environment (https://gym.openai.com/envs/Taxi-v3/), which is a basic \"grid-world\" enviroment used for research in artificial intelligence and reinforcement learning."
      ]
    },
    {
      "cell_type": "code",
      "metadata": {
        "colab": {
          "base_uri": "https://localhost:8080/"
        },
        "id": "WtaxfIemsVSb",
        "outputId": "6b5ded65-ca04-40f1-f130-fb2b4a8b5fb4"
      },
      "source": [
        "import gym\n",
        "\n",
        "env = gym.make(\"Taxi-v3\").env\n",
        "\n",
        "env.reset ()\n",
        "env.render()"
      ],
      "execution_count": 1,
      "outputs": [
        {
          "output_type": "stream",
          "text": [
            "+---------+\n",
            "|R: | : :\u001b[34;1mG\u001b[0m|\n",
            "| :\u001b[43m \u001b[0m| : : |\n",
            "| : : : : |\n",
            "| | : | : |\n",
            "|Y| : |\u001b[35mB\u001b[0m: |\n",
            "+---------+\n",
            "\n"
          ],
          "name": "stdout"
        }
      ]
    },
    {
      "cell_type": "markdown",
      "metadata": {
        "id": "9z-WrsJ5sbsI"
      },
      "source": [
        "\n",
        "This is original taxi grid enviroment, which is available as part of the OpenAI gym module. The enviroment models a taxi, which moves within the gridworld enviroment with the goal of picking up a passenger and bringing her to her destination.\n",
        "\n",
        "Our modifications on the original enviroment were created with two main goals:\n",
        "\n",
        "**First**, the original taxi grid enviroment is a single agent enviroment. We were interested in allowing multi-agent reinforcement learning, so we created an option to use multiple taxis.\n",
        "\n",
        "**Second**, by adding a fuel constraint modification, we were able to test whether agents would be able to consider the long term fuel constraint, and maybe use the environment in limitted resources research situations.\n",
        "\n",
        "**Third**, our environment can show and allow/restrict for taxis collision.\n",
        "\n",
        "**Fourth**, we added to the fuel constraint a fuel-type constraint (we can model gas/fuel taxis with suitable fuel stations).\n",
        "\n",
        "###Installation\n",
        "To work with our custom enviroments, the first thing that we want to do is to install them. As the enviroments are packaged together into a module called \"multitaxienv\" which is to be found on the github, it is easy to install all of the modules at once."
      ]
    },
    {
      "cell_type": "code",
      "metadata": {
        "colab": {
          "base_uri": "https://localhost:8080/"
        },
        "id": "QjkkmrSDqqdf",
        "outputId": "b6a8b2d8-f4ac-46f1-d050-42ad11750e29"
      },
      "source": [
        "!git clone https://github.com/sarah-keren/MultiTaxiEnv.git"
      ],
      "execution_count": 2,
      "outputs": [
        {
          "output_type": "stream",
          "text": [
            "Cloning into 'MultiTaxiEnv'...\n",
            "remote: Enumerating objects: 333, done.\u001b[K\n",
            "remote: Counting objects: 100% (92/92), done.\u001b[K\n",
            "remote: Compressing objects: 100% (70/70), done.\u001b[K\n",
            "remote: Total 333 (delta 44), reused 58 (delta 19), pack-reused 241\u001b[K\n",
            "Receiving objects: 100% (333/333), 152.41 KiB | 2.00 MiB/s, done.\n",
            "Resolving deltas: 100% (192/192), done.\n"
          ],
          "name": "stdout"
        }
      ]
    },
    {
      "cell_type": "markdown",
      "metadata": {
        "id": "ylf_jOnesldp"
      },
      "source": [
        "\n",
        "You'll note that we have only one calss file. To support all the variations of our environment we use the parameters in the init of our class.\n",
        "\n",
        "After installing the environment, run the following line"
      ]
    },
    {
      "cell_type": "code",
      "metadata": {
        "colab": {
          "base_uri": "https://localhost:8080/"
        },
        "id": "aL0OFVoxqzKd",
        "outputId": "db530a42-a95e-468a-be86-e8009781ea60"
      },
      "source": [
        "%cd MultiTaxiEnv\n",
        "from taxi_environment import TaxiEnv"
      ],
      "execution_count": 3,
      "outputs": [
        {
          "output_type": "stream",
          "text": [
            "/content/MultiTaxiEnv\n",
            "+---------+\n",
            "|\u001b[34;1mX\u001b[0m:\u001b[43m_\u001b[0m|F: :\u001b[34;1mX\u001b[0m|\n",
            "| : | : : |\n",
            "| : : : :\u001b[41m_\u001b[0m|\n",
            "| | : | : |\n",
            "|\u001b[35mX\u001b[0m| :G|\u001b[35mX\u001b[0m: |\n",
            "+---------+\n",
            "Taxi1-YELLOW: Fuel: 100, Location: (0,1), Collided: False\n",
            "Taxi2-RED: Fuel: 100, Location: (2,4), Collided: False\n",
            "Passenger1: Location: (0, 4), Destination: (4, 3)\n",
            "Passenger2: Location: (0, 0), Destination: (4, 0)\n",
            "Done: False, {'taxi_1': False, 'taxi_2': False, '__all__': False}\n",
            "Passengers Status's: [2, 2]\n"
          ],
          "name": "stdout"
        }
      ]
    },
    {
      "cell_type": "markdown",
      "metadata": {
        "id": "x9fgz9gIs1Um"
      },
      "source": [
        "###Initializing Environment - Hyper-Parameters of the Class"
      ]
    },
    {
      "cell_type": "code",
      "metadata": {
        "id": "No1pjPQyrPNc"
      },
      "source": [
        "# env = TaxiEnv(num_taxis = 2, num_passengers = 2, max_fuel = None,\n",
        "#                  taxis_capacity = None, collision_sensitive_domain = True,\n",
        "#                  fuel_type_list = None, option_to_stand_by = False)\n",
        "env = TaxiEnv(num_taxis = 2, num_passengers = 1, max_fuel = None,\n",
        "                 domain_map = None, taxis_capacity = None, collision_sensitive_domain = True,\n",
        "                 fuel_type_list = None, option_to_stand_by = False)"
      ],
      "execution_count": 4,
      "outputs": []
    },
    {
      "cell_type": "markdown",
      "metadata": {
        "id": "CBJ7EfF4rO57"
      },
      "source": [
        "\n",
        "\n",
        "1.   num_taxis - default is 2, but you can select any number $\\in$ $[1, \\infty)$.\n",
        "2.   num_passengers - same.\n",
        "3.   max_fuel - a list where the i'th element is the max fuel of taxi number i. Each taxi starts with max fuel. Default is None which sets fuel limit to np.inf (no fuel model).\n",
        "4.   taxis_capacity - A list with the passengers limit for each taxi, default is 1 for each taxi.\n",
        "5.   collision_sensitive_domain - Boolean to specify wether collisions will be shown and affect the domain (True) or will be ignored (False).\n",
        "6.   fuel_type_list - The fuel type ('Fuel / 'Gas' of each taxi, default is 'F'.\n",
        "7.   option_to_stand_by - Can taxis stand in place (True), or not (False), default is True.\n",
        "\n"
      ]
    },
    {
      "cell_type": "code",
      "metadata": {
        "colab": {
          "base_uri": "https://localhost:8080/"
        },
        "id": "ZR3dVa_AtDSs",
        "outputId": "44ebdfd9-f4de-4f4a-9f39-b9baa0907b6e"
      },
      "source": [
        "env = TaxiEnv()\n",
        "env.reset()\n",
        "env.s = 1022\n",
        "env.render()"
      ],
      "execution_count": 5,
      "outputs": [
        {
          "output_type": "stream",
          "text": [
            "+---------+\n",
            "|\u001b[34;1mX\u001b[0m: |F: :\u001b[35mX\u001b[0m|\n",
            "| :\u001b[41m_\u001b[0m| : : |\n",
            "| : : : : |\n",
            "| | : | : |\n",
            "|X| :G|\u001b[43mX\u001b[0m: |\n",
            "+---------+\n",
            "Taxi1-YELLOW: Fuel: 100, Location: (4,3), Collided: False\n",
            "Taxi2-RED: Fuel: 100, Location: (1,1), Collided: False\n",
            "Passenger1: Location: (0, 0), Destination: (0, 4)\n",
            "Done: False, {'taxi_1': False, 'taxi_2': False, '__all__': False}\n",
            "Passengers Status's: [2]\n"
          ],
          "name": "stdout"
        }
      ]
    },
    {
      "cell_type": "markdown",
      "metadata": {
        "id": "cj4mzFk8tg3o"
      },
      "source": [
        "Here we initialized a domain with the default values. As we can see:\n",
        "We have **2 taxis** represented in the highlighted boxes, we can see wich taxi in which color by the description printed below the map.\n",
        "We also have **np.inf** fuel limit.\n",
        "There are also **2 passengers** at the X marked positions with destination at X colored in magenta.\n",
        "\n",
        "Note that we save for each taxi wether it had been collided or not.\n",
        "\n",
        "###Action Space of the Environment"
      ]
    },
    {
      "cell_type": "code",
      "metadata": {
        "colab": {
          "base_uri": "https://localhost:8080/"
        },
        "id": "e6OeBXbLtlha",
        "outputId": "ccda7651-d9ad-4e0d-a8f7-dad7ba1abf16"
      },
      "source": [
        "env.get_available_actions_dictionary()[1]"
      ],
      "execution_count": 6,
      "outputs": [
        {
          "output_type": "execute_result",
          "data": {
            "text/plain": [
              "{0: 'south',\n",
              " 1: 'north',\n",
              " 2: 'east',\n",
              " 3: 'west',\n",
              " 4: 'pickup',\n",
              " 5: 'dropoff',\n",
              " 6: 'refuel',\n",
              " 7: 'turn_engine_on',\n",
              " 8: 'turn_engine_off',\n",
              " 9: 'standby',\n",
              " 10: 'refuel'}"
            ]
          },
          "metadata": {
            "tags": []
          },
          "execution_count": 6
        }
      ]
    },
    {
      "cell_type": "markdown",
      "metadata": {
        "id": "BfkP2-pCtpUp"
      },
      "source": [
        "**get_available_actions_dictionary()** returns a tuple where:\n",
        "\n",
        "1.  1st element - available action indexes that the specific initialized domain supports.\n",
        "2.  2nd element - the dictionary above which specify all available actions' names and it's indexes.\n",
        "Note that in no-fuel model (induced by max_fuel = np.inf) and in no option to standby model - we won't be able to use actions: 9 and 6, 7, 8 respectively."
      ]
    },
    {
      "cell_type": "code",
      "metadata": {
        "colab": {
          "base_uri": "https://localhost:8080/"
        },
        "id": "ap3hi3dLtubD",
        "outputId": "c17aa26b-90db-4eca-cdaa-61947fc5eedb"
      },
      "source": [
        "env.get_available_actions_dictionary()[0]"
      ],
      "execution_count": 7,
      "outputs": [
        {
          "output_type": "execute_result",
          "data": {
            "text/plain": [
              "[0, 1, 2, 3, 4, 5, 7, 8, 9, 10]"
            ]
          },
          "metadata": {
            "tags": []
          },
          "execution_count": 7
        }
      ]
    },
    {
      "cell_type": "markdown",
      "metadata": {
        "id": "MyK4lCWftyKh"
      },
      "source": [
        "At the first element returned we get the action space available to us on the initialized domain.\n",
        "**Those indexes are the actions we send to the domain when we want to make a step!**\n",
        "\n",
        "Here we send actions \"east\" for each one of our 2 taxis.\n",
        "We get the environment's next state which is build as: **taxis locations, current_fuel_list, passengers_start_locations, destinations, passengers_status**."
      ]
    },
    {
      "cell_type": "code",
      "metadata": {
        "colab": {
          "base_uri": "https://localhost:8080/"
        },
        "id": "Rz-5OP37t6hZ",
        "outputId": "6d1496c8-eafc-4a46-e0c3-28fc504beee8"
      },
      "source": [
        "state, reward, done, _ = env.step({\"taxi_1\": 2, \"taxi_2\": 2})\n",
        "print(\"taxi_1 next state is: \" + str(state[\"taxi_1\"]) + \", taxi_2 next state is: \" +  str(state[\"taxi_2\"]))\n",
        "print(\"the reward for the last action is: \" + str(reward[\"taxi_1\"]) + \", \" + str(reward[\"taxi_2\"]) + \" for the two taxis respectivly\")\n",
        "print( \"and the episode is \"+ str(\"\" if done[\"__all__\"] else \"not\")  + \" done.\")"
      ],
      "execution_count": 14,
      "outputs": [
        {
          "output_type": "stream",
          "text": [
            "taxi_1 next state is: [[ 4  4  0  0 99  0  0  0  0  4  2]], taxi_2 next state is: [[  1   1   0   0 100   0   0   0   0   4   2]]\n",
            "the reward for the last action is: -2, -2 for the two taxis respectivly\n",
            "and the episode is not done.\n"
          ],
          "name": "stdout"
        }
      ]
    },
    {
      "cell_type": "markdown",
      "metadata": {
        "id": "yPQ18bM-xxAP"
      },
      "source": [
        "Generally to preform an action, we use the step function. This returns a tuple which includes the next state, the reward and whether the episode has ended or not.\n",
        "In this environment, the episode ends when either:\n",
        "\n",
        "1.  all passengers reached their destinations.\n",
        "2.  all taxis are out of fuel.\n",
        "3.  all taxis collided.\n",
        "The ***rewards***, are given in the config.py as below:"
      ]
    },
    {
      "cell_type": "code",
      "metadata": {
        "id": "365ux9UIuka7"
      },
      "source": [
        "taxi_env_rewards = dict(\n",
        "    step=-1,\n",
        "    no_fuel=-20,\n",
        "    bad_pickup=-15,\n",
        "    bad_dropoff=-15,\n",
        "    bad_refuel=-10,\n",
        "    pickup=-1,\n",
        "    standby_engine_off=-1,\n",
        "    turn_engine_on=-1,\n",
        "    turn_engine_off=-1,\n",
        "    standby_engine_on=-1,\n",
        "    intermediate_dropoff=-10,\n",
        "    final_dropoff=100,\n",
        "    hit_wall=-20,\n",
        "    collision=-30,\n",
        ")"
      ],
      "execution_count": 15,
      "outputs": []
    },
    {
      "cell_type": "markdown",
      "metadata": {
        "id": "EAdI5nTsx24A"
      },
      "source": [
        "Now let's try to navigate to the fuel station:\n",
        "\n"
      ]
    },
    {
      "cell_type": "code",
      "metadata": {
        "colab": {
          "base_uri": "https://localhost:8080/"
        },
        "id": "qXr11qjyx7lI",
        "outputId": "194a918b-e21d-4a84-ea13-962000907d21"
      },
      "source": [
        "env.render()"
      ],
      "execution_count": 18,
      "outputs": [
        {
          "output_type": "stream",
          "text": [
            "+---------+\n",
            "|\u001b[34;1mX\u001b[0m: |F: :\u001b[35mX\u001b[0m|\n",
            "| :\u001b[41m_\u001b[0m| : : |\n",
            "| : : : : |\n",
            "| | : | : |\n",
            "|X| :G|X:\u001b[43m_\u001b[0m|\n",
            "+---------+\n",
            "  (east ,east)\n",
            "Taxi1-YELLOW: Fuel: 99, Location: (4,4), Collided: False\n",
            "Taxi2-RED: Fuel: 100, Location: (1,1), Collided: False\n",
            "Passenger1: Location: (0, 0), Destination: (0, 4)\n",
            "Done: False, {'taxi_1': False, 'taxi_2': False, '__all__': False}\n",
            "Passengers Status's: [2]\n"
          ],
          "name": "stdout"
        }
      ]
    },
    {
      "cell_type": "code",
      "metadata": {
        "colab": {
          "base_uri": "https://localhost:8080/"
        },
        "id": "rZKUPfmSx9mb",
        "outputId": "5ed365a6-199c-46ac-c37b-06c38b56fa22"
      },
      "source": [
        "env.step({\"taxi_1\": 1, \"taxi_2\": 0})\n",
        "env.render()"
      ],
      "execution_count": 19,
      "outputs": [
        {
          "output_type": "stream",
          "text": [
            "+---------+\n",
            "|\u001b[34;1mX\u001b[0m: |F: :\u001b[35mX\u001b[0m|\n",
            "| : | : : |\n",
            "| :\u001b[41m_\u001b[0m: : : |\n",
            "| | : | :\u001b[43m_\u001b[0m|\n",
            "|X| :G|X: |\n",
            "+---------+\n",
            "  (north ,south)\n",
            "Taxi1-YELLOW: Fuel: 98, Location: (3,4), Collided: False\n",
            "Taxi2-RED: Fuel: 99, Location: (2,1), Collided: False\n",
            "Passenger1: Location: (0, 0), Destination: (0, 4)\n",
            "Done: False, {'taxi_1': False, 'taxi_2': False, '__all__': False}\n",
            "Passengers Status's: [2]\n"
          ],
          "name": "stdout"
        }
      ]
    },
    {
      "cell_type": "markdown",
      "metadata": {
        "id": "CcRJOiyVyEl2"
      },
      "source": [
        "###Using Different Map\n",
        "You can also input your own map as a list of strings and specify the maximum fuel. The map must be formatted in the same way as above, with '+'at the corners and '-', '|' specifying the boundaries. You can have as many destination and fuel stations as you want!"
      ]
    },
    {
      "cell_type": "code",
      "metadata": {
        "id": "yLthED8_yGtB"
      },
      "source": [
        "custom_map = [\n",
        "    '+---------------+',\n",
        "    '| : :X| :F: : : |',\n",
        "    '|X: : | : | :X| |',\n",
        "    '| : : : : : : | |',\n",
        "    '| :X:F| :X| : :X|',\n",
        "    '+---------------+',\n",
        "]"
      ],
      "execution_count": 20,
      "outputs": []
    },
    {
      "cell_type": "code",
      "metadata": {
        "colab": {
          "base_uri": "https://localhost:8080/"
        },
        "id": "rRLdhANYyQYe",
        "outputId": "a3fcf5f8-73e2-4535-88b9-468ad2768688"
      },
      "source": [
        "env_new_map = TaxiEnv(domain_map=custom_map)\n",
        "env_new_map.reset()\n",
        "env_new_map.render()"
      ],
      "execution_count": 22,
      "outputs": [
        {
          "output_type": "stream",
          "text": [
            "+---------------+\n",
            "| : :\u001b[35mX\u001b[0m| :F: : : |\n",
            "|X: : | : | :\u001b[34;1mX\u001b[0m| |\n",
            "| : : : : : : | |\n",
            "| :\u001b[43mX\u001b[0m:F| :X| : :\u001b[41mX\u001b[0m|\n",
            "+---------------+\n",
            "Taxi1-YELLOW: Fuel: 100, Location: (3,1), Collided: False\n",
            "Taxi2-RED: Fuel: 100, Location: (3,7), Collided: False\n",
            "Passenger1: Location: (1, 6), Destination: (0, 2)\n",
            "Done: False, {'taxi_1': False, 'taxi_2': False, '__all__': False}\n",
            "Passengers Status's: [2]\n"
          ],
          "name": "stdout"
        }
      ]
    }
  ]
}